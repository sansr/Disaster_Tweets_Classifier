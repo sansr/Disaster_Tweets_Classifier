{
 "cells": [
  {
   "cell_type": "markdown",
   "id": "sized-expense",
   "metadata": {},
   "source": [
    "# Disaster tweets classifier\n",
    "\n",
    "I have chosen this Kaggle competition because I don't have much experience with NLP projects and I wanted to get started into this field. This project seems like a good opportunity to start applying text processing techniques and get fluency.\n",
    "\n",
    "From Kaggle competition page:\n",
    "\n",
    "Twitter has become an important communication channel in times of emergency.\n",
    "The ubiquitousness of smartphones enables people to announce an emergency they’re observing in real-time. Because of this, more agencies are interested in programatically monitoring Twitter (i.e. disaster relief organizations and news agencies).\n",
    "\n",
    "But, it’s not always clear whether a person’s words are actually announcing a disaster."
   ]
  },
  {
   "cell_type": "code",
   "execution_count": 2,
   "id": "solved-footage",
   "metadata": {},
   "outputs": [
    {
     "name": "stderr",
     "output_type": "stream",
     "text": [
      "Using TensorFlow backend.\n"
     ]
    }
   ],
   "source": [
    "import numpy as np\n",
    "import os\n",
    "import re\n",
    "from nltk.util import ngrams\n",
    "from sklearn.model_selection import train_test_split\n",
    "import tensorflow as tf\n",
    "import keras\n",
    "from keras.models import Sequential\n",
    "from keras.initializers import Constant\n",
    "from keras.layers import (LSTM, \n",
    "                          Embedding, \n",
    "                          BatchNormalization,\n",
    "                          Dense, \n",
    "                          TimeDistributed, \n",
    "                          Dropout, \n",
    "                          Bidirectional,\n",
    "                          Flatten, \n",
    "                          GlobalMaxPool1D)\n",
    "from nltk.tokenize import word_tokenize\n",
    "from keras.preprocessing.text import Tokenizer\n",
    "from keras.preprocessing.sequence import pad_sequences\n",
    "from keras.layers.embeddings import Embedding\n",
    "from keras.callbacks import ModelCheckpoint, ReduceLROnPlateau\n",
    "from keras.optimizers import Adam\n",
    "from sklearn.metrics import (\n",
    "    precision_score, \n",
    "    recall_score, \n",
    "    f1_score, \n",
    "    classification_report,\n",
    "    accuracy_score\n",
    ")"
   ]
  },
  {
   "cell_type": "markdown",
   "id": "heard-crawford",
   "metadata": {},
   "source": [
    "## 1. Exploratory Data Analysis"
   ]
  },
  {
   "cell_type": "markdown",
   "id": "minor-newman",
   "metadata": {},
   "source": [
    "### 1.1 Read train and test datasets"
   ]
  },
  {
   "cell_type": "code",
   "execution_count": 79,
   "id": "jewish-institute",
   "metadata": {},
   "outputs": [
    {
     "data": {
      "text/html": [
       "<div>\n",
       "<style scoped>\n",
       "    .dataframe tbody tr th:only-of-type {\n",
       "        vertical-align: middle;\n",
       "    }\n",
       "\n",
       "    .dataframe tbody tr th {\n",
       "        vertical-align: top;\n",
       "    }\n",
       "\n",
       "    .dataframe thead th {\n",
       "        text-align: right;\n",
       "    }\n",
       "</style>\n",
       "<table border=\"1\" class=\"dataframe\">\n",
       "  <thead>\n",
       "    <tr style=\"text-align: right;\">\n",
       "      <th></th>\n",
       "      <th>id</th>\n",
       "      <th>keyword</th>\n",
       "      <th>location</th>\n",
       "      <th>text</th>\n",
       "      <th>target</th>\n",
       "    </tr>\n",
       "  </thead>\n",
       "  <tbody>\n",
       "    <tr>\n",
       "      <th>0</th>\n",
       "      <td>1</td>\n",
       "      <td>NaN</td>\n",
       "      <td>NaN</td>\n",
       "      <td>Our Deeds are the Reason of this #earthquake M...</td>\n",
       "      <td>1</td>\n",
       "    </tr>\n",
       "    <tr>\n",
       "      <th>1</th>\n",
       "      <td>4</td>\n",
       "      <td>NaN</td>\n",
       "      <td>NaN</td>\n",
       "      <td>Forest fire near La Ronge Sask. Canada</td>\n",
       "      <td>1</td>\n",
       "    </tr>\n",
       "    <tr>\n",
       "      <th>2</th>\n",
       "      <td>5</td>\n",
       "      <td>NaN</td>\n",
       "      <td>NaN</td>\n",
       "      <td>All residents asked to 'shelter in place' are ...</td>\n",
       "      <td>1</td>\n",
       "    </tr>\n",
       "    <tr>\n",
       "      <th>3</th>\n",
       "      <td>6</td>\n",
       "      <td>NaN</td>\n",
       "      <td>NaN</td>\n",
       "      <td>13,000 people receive #wildfires evacuation or...</td>\n",
       "      <td>1</td>\n",
       "    </tr>\n",
       "    <tr>\n",
       "      <th>4</th>\n",
       "      <td>7</td>\n",
       "      <td>NaN</td>\n",
       "      <td>NaN</td>\n",
       "      <td>Just got sent this photo from Ruby #Alaska as ...</td>\n",
       "      <td>1</td>\n",
       "    </tr>\n",
       "  </tbody>\n",
       "</table>\n",
       "</div>"
      ],
      "text/plain": [
       "   id keyword location                                               text  \\\n",
       "0   1     NaN      NaN  Our Deeds are the Reason of this #earthquake M...   \n",
       "1   4     NaN      NaN             Forest fire near La Ronge Sask. Canada   \n",
       "2   5     NaN      NaN  All residents asked to 'shelter in place' are ...   \n",
       "3   6     NaN      NaN  13,000 people receive #wildfires evacuation or...   \n",
       "4   7     NaN      NaN  Just got sent this photo from Ruby #Alaska as ...   \n",
       "\n",
       "   target  \n",
       "0       1  \n",
       "1       1  \n",
       "2       1  \n",
       "3       1  \n",
       "4       1  "
      ]
     },
     "execution_count": 79,
     "metadata": {},
     "output_type": "execute_result"
    }
   ],
   "source": [
    "import pandas as pd\n",
    "\n",
    "train = pd.read_csv('./input/tweets_data/train.csv')\n",
    "test = pd.read_csv('./input/tweets_data/test.csv')\n",
    "\n",
    "train.head(5)"
   ]
  },
  {
   "cell_type": "markdown",
   "id": "senior-edwards",
   "metadata": {},
   "source": [
    "### 1.2 Get the total number of samples in both datasets"
   ]
  },
  {
   "cell_type": "code",
   "execution_count": 80,
   "id": "characteristic-chaos",
   "metadata": {},
   "outputs": [
    {
     "name": "stdout",
     "output_type": "stream",
     "text": [
      "Total number of train samples = 7613 \n",
      "Total number of test samples = 3263\n"
     ]
    }
   ],
   "source": [
    "train_total_rows = train.shape[0]\n",
    "test_total_rows = test.shape[0]\n",
    "\n",
    "print(f\"Total number of train samples = {train_total_rows} \\n\\\n",
    "Total number of test samples = {test_total_rows}\")"
   ]
  },
  {
   "cell_type": "markdown",
   "id": "patient-melissa",
   "metadata": {},
   "source": [
    "### 1.3 Checking class distribution"
   ]
  },
  {
   "cell_type": "code",
   "execution_count": 81,
   "id": "middle-sculpture",
   "metadata": {},
   "outputs": [
    {
     "name": "stdout",
     "output_type": "stream",
     "text": [
      "Total number of disaster samples (1) = 3271 \n",
      "Total number of non disaster samples (0) = 4342\n"
     ]
    }
   ],
   "source": [
    "import matplotlib.pyplot as plt\n",
    "%matplotlib inline\n",
    "\n",
    "values = train.target.value_counts()\n",
    "print(f\"Total number of disaster samples (1) = {values[1]} \\n\\\n",
    "Total number of non disaster samples (0) = {values[0]}\")"
   ]
  },
  {
   "cell_type": "code",
   "execution_count": 82,
   "id": "universal-senior",
   "metadata": {},
   "outputs": [
    {
     "data": {
      "image/png": "[encoded data removed]",
      "text/plain": [
       "<Figure size 432x288 with 1 Axes>"
      ]
     },
     "metadata": {},
     "output_type": "display_data"
    }
   ],
   "source": [
    "labels = [\"disaster\", \"non disaster\"]\n",
    "plt.pie(values, labels=labels)\n",
    "plt.show()"
   ]
  },
  {
   "cell_type": "markdown",
   "id": "upset-argentina",
   "metadata": {},
   "source": [
    "### 1.4 Get number of characters in tweets"
   ]
  },
  {
   "cell_type": "code",
   "execution_count": 83,
   "id": "configured-johns",
   "metadata": {},
   "outputs": [],
   "source": [
    "calculate_len = lambda x: len(str(x))\n",
    "\n",
    "disaster_tweet_len = list(map(calculate_len, train[train['target']==1]['text']))\n",
    "no_disaster_tweet_len = list(map(calculate_len, train[train['target']==0]['text']))"
   ]
  },
  {
   "cell_type": "code",
   "execution_count": 84,
   "id": "complimentary-knife",
   "metadata": {},
   "outputs": [
    {
     "data": {
      "text/plain": [
       "Text(0.5, 0, 'Disaster tweets')"
      ]
     },
     "execution_count": 84,
     "metadata": {},
     "output_type": "execute_result"
    },
    {
     "data": {
      "image/png": "[encoded data removed]",
      "text/plain": [
       "<Figure size 432x288 with 1 Axes>"
      ]
     },
     "metadata": {
      "needs_background": "light"
     },
     "output_type": "display_data"
    }
   ],
   "source": [
    "plt.hist(disaster_tweet_len, color='red')\n",
    "plt.ylabel('# Characters in tweets')\n",
    "plt.xlabel('Disaster tweets')"
   ]
  },
  {
   "cell_type": "code",
   "execution_count": 85,
   "id": "daily-answer",
   "metadata": {},
   "outputs": [
    {
     "data": {
      "text/plain": [
       "Text(0.5, 0, 'No Disaster tweets')"
      ]
     },
     "execution_count": 85,
     "metadata": {},
     "output_type": "execute_result"
    },
    {
     "data": {
      "image/png": "[encoded data removed]",
      "text/plain": [
       "<Figure size 432x288 with 1 Axes>"
      ]
     },
     "metadata": {
      "needs_background": "light"
     },
     "output_type": "display_data"
    }
   ],
   "source": [
    "plt.hist(no_disaster_tweet_len, color='blue')\n",
    "plt.ylabel('# Characters in tweets')\n",
    "plt.xlabel('No Disaster tweets')"
   ]
  },
  {
   "cell_type": "markdown",
   "id": "hindu-homeless",
   "metadata": {},
   "source": [
    "### 1.5 Get number of words in each tweet"
   ]
  },
  {
   "cell_type": "code",
   "execution_count": 86,
   "id": "civil-projector",
   "metadata": {},
   "outputs": [],
   "source": [
    "calculate_words = lambda x: str(x).split()\n",
    "\n",
    "disaster_tweet_len = list(map(lambda x: len(x), list(map(calculate_words, train[train['target']==1]['text']))))\n",
    "no_disaster_tweet_len = list(map(lambda x: len(x), list(map(calculate_words, train[train['target']==0]['text']))))"
   ]
  },
  {
   "cell_type": "code",
   "execution_count": 87,
   "id": "hollywood-found",
   "metadata": {},
   "outputs": [
    {
     "data": {
      "text/plain": [
       "Text(0.5, 0, 'Disaster tweets')"
      ]
     },
     "execution_count": 87,
     "metadata": {},
     "output_type": "execute_result"
    },
    {
     "data": {
      "image/png": "[encoded data removed]",
      "text/plain": [
       "<Figure size 432x288 with 1 Axes>"
      ]
     },
     "metadata": {
      "needs_background": "light"
     },
     "output_type": "display_data"
    }
   ],
   "source": [
    "plt.hist(disaster_tweet_len, color='red')\n",
    "plt.ylabel('# Words in tweets')\n",
    "plt.xlabel('Disaster tweets')"
   ]
  },
  {
   "cell_type": "code",
   "execution_count": 88,
   "id": "protective-cambridge",
   "metadata": {},
   "outputs": [
    {
     "data": {
      "text/plain": [
       "Text(0.5, 0, 'No Disaster tweets')"
      ]
     },
     "execution_count": 88,
     "metadata": {},
     "output_type": "execute_result"
    },
    {
     "data": {
      "image/png": "[encoded data removed]",
      "text/plain": [
       "<Figure size 432x288 with 1 Axes>"
      ]
     },
     "metadata": {
      "needs_background": "light"
     },
     "output_type": "display_data"
    }
   ],
   "source": [
    "plt.hist(no_disaster_tweet_len, color='blue')\n",
    "plt.ylabel('# Words in tweets')\n",
    "plt.xlabel('No Disaster tweets')"
   ]
  },
  {
   "cell_type": "markdown",
   "id": "conservative-mortality",
   "metadata": {},
   "source": [
    "### 1.8 Analize punctuations marks in non-disaster class (0)"
   ]
  },
  {
   "cell_type": "code",
   "execution_count": 89,
   "id": "organized-motel",
   "metadata": {},
   "outputs": [],
   "source": [
    "import string\n",
    "from collections import defaultdict\n",
    "\n",
    "# Define corpus both both classes\n",
    "punctuation_corpus_no_disaster = [i for x in str(train[train['target']==0]['text']).split() for i in x]\n",
    "punctuation_corpus_disaster = [i for x in str(train[train['target']==0]['text']).split() for i in x]\n",
    "\n",
    "def count_punctuation_marks(corpus):\n",
    "    punctuation_counter = defaultdict(int)\n",
    "    for word in corpus:\n",
    "        if word in string.punctuation:\n",
    "            punctuation_counter[word] = punctuation_counter[word]+1\n",
    "    return punctuation_counter"
   ]
  },
  {
   "cell_type": "code",
   "execution_count": 90,
   "id": "middle-variance",
   "metadata": {},
   "outputs": [
    {
     "data": {
      "text/plain": [
       "<BarContainer object of 7 artists>"
      ]
     },
     "execution_count": 90,
     "metadata": {},
     "output_type": "execute_result"
    },
    {
     "data": {
      "image/png": "[encoded data removed]",
      "text/plain": [
       "<Figure size 432x288 with 1 Axes>"
      ]
     },
     "metadata": {
      "needs_background": "light"
     },
     "output_type": "display_data"
    }
   ],
   "source": [
    "# Punctuation marks for no disaster tweets\n",
    "pmark, counter = zip(*count_punctuation_marks(punctuation_corpus_no_disaster).items())\n",
    "\n",
    "plt.bar(pmark, counter, color='blue')"
   ]
  },
  {
   "cell_type": "markdown",
   "id": "powerful-tooth",
   "metadata": {},
   "source": [
    "### 1.9 Analize punctuations marks in disaster class (1)"
   ]
  },
  {
   "cell_type": "code",
   "execution_count": 64,
   "id": "subsequent-strip",
   "metadata": {},
   "outputs": [
    {
     "data": {
      "text/plain": [
       "<BarContainer object of 7 artists>"
      ]
     },
     "execution_count": 64,
     "metadata": {},
     "output_type": "execute_result"
    },
    {
     "data": {
      "image/png": "[encoded data removed]",
      "text/plain": [
       "<Figure size 432x288 with 1 Axes>"
      ]
     },
     "metadata": {
      "needs_background": "light"
     },
     "output_type": "display_data"
    }
   ],
   "source": [
    "# Punctuation marks for disaster tweets\n",
    "pmark_disaster, counter_disaster = zip(*count_punctuation_marks(punctuation_corpus_disaster).items())\n",
    "\n",
    "plt.bar(pmark_disaster, counter_disaster, color='red')"
   ]
  },
  {
   "cell_type": "markdown",
   "id": "norman-matrix",
   "metadata": {},
   "source": [
    "### 1.10 Download stopwords"
   ]
  },
  {
   "cell_type": "code",
   "execution_count": 66,
   "id": "understanding-vampire",
   "metadata": {},
   "outputs": [
    {
     "name": "stderr",
     "output_type": "stream",
     "text": [
      "[nltk_data] Downloading package stopwords to\n",
      "[nltk_data]     /home/ec2-user/nltk_data...\n",
      "[nltk_data]   Unzipping corpora/stopwords.zip.\n"
     ]
    }
   ],
   "source": [
    "import nltk\n",
    "from nltk.corpus import stopwords\n",
    "\n",
    "nltk.download('stopwords')\n",
    "stopwords = set(stopwords.words('english'))"
   ]
  },
  {
   "cell_type": "markdown",
   "id": "decimal-tourism",
   "metadata": {},
   "source": [
    "### 1.11 Get the most common words for no disaster tweets"
   ]
  },
  {
   "cell_type": "code",
   "execution_count": 112,
   "id": "fuzzy-exclusion",
   "metadata": {},
   "outputs": [],
   "source": [
    "corpus_no_disaster = [x for x in str(train[train['target']==0]['text']).split()]\n",
    "corpus_disaster = [x for x in str(train[train['target']==0]['text']).split()]"
   ]
  },
  {
   "cell_type": "code",
   "execution_count": 109,
   "id": "primary-standard",
   "metadata": {},
   "outputs": [
    {
     "data": {
      "text/plain": [
       "<AxesSubplot:ylabel='words'>"
      ]
     },
     "execution_count": 109,
     "metadata": {},
     "output_type": "execute_result"
    },
    {
     "data": {
      "image/png": "[encoded data removed]",
      "text/plain": [
       "<Figure size 576x576 with 1 Axes>"
      ]
     },
     "metadata": {
      "needs_background": "light"
     },
     "output_type": "display_data"
    }
   ],
   "source": [
    "from collections import Counter\n",
    "\n",
    "counter = Counter(corpus_no_disaster)\n",
    "top_counting = counter.most_common()\n",
    "\n",
    "most_common_words_no_disaster = pd.DataFrame(top_counting[:30],\n",
    "                             columns=['words', 'count'])\n",
    "\n",
    "fig, ax = plt.subplots(figsize=(8, 8))\n",
    "most_common_words_no_disaster.sort_values(by='count').plot.barh(x='words',\n",
    "                      y='count',\n",
    "                      ax=ax,\n",
    "                      color=\"blue\")"
   ]
  },
  {
   "cell_type": "markdown",
   "id": "operational-adult",
   "metadata": {},
   "source": [
    "### 1.11 Get the most common words for disaster tweets"
   ]
  },
  {
   "cell_type": "code",
   "execution_count": 110,
   "id": "awful-madison",
   "metadata": {},
   "outputs": [
    {
     "data": {
      "text/plain": [
       "<AxesSubplot:ylabel='words'>"
      ]
     },
     "execution_count": 110,
     "metadata": {},
     "output_type": "execute_result"
    },
    {
     "data": {
      "image/png": "[encoded data removed]",
      "text/plain": [
       "<Figure size 576x576 with 1 Axes>"
      ]
     },
     "metadata": {
      "needs_background": "light"
     },
     "output_type": "display_data"
    }
   ],
   "source": [
    "counter = Counter(corpus_disaster)\n",
    "top_counting = counter.most_common()\n",
    "\n",
    "most_common_words_disaster = pd.DataFrame(top_counting[:30],\n",
    "                             columns=['words', 'count'])\n",
    "\n",
    "fig, ax = plt.subplots(figsize=(8, 8))\n",
    "most_common_words_disaster.sort_values(by='count').plot.barh(x='words',\n",
    "                      y='count',\n",
    "                      ax=ax,\n",
    "                      color=\"red\")"
   ]
  },
  {
   "cell_type": "markdown",
   "id": "swiss-network",
   "metadata": {},
   "source": [
    "### 1.12 Bigram analysis for no disaster tweets"
   ]
  },
  {
   "cell_type": "code",
   "execution_count": 128,
   "id": "chief-portrait",
   "metadata": {},
   "outputs": [
    {
     "data": {
      "text/plain": [
       "<AxesSubplot:>"
      ]
     },
     "execution_count": 128,
     "metadata": {},
     "output_type": "execute_result"
    },
    {
     "data": {
      "image/png": "[encoded data removed]",
      "text/plain": [
       "<Figure size 720x360 with 1 Axes>"
      ]
     },
     "metadata": {
      "needs_background": "light"
     },
     "output_type": "display_data"
    }
   ],
   "source": [
    "from sklearn.feature_extraction.text import CountVectorizer\n",
    "\n",
    "corpus_no_disaster_text = train[train['target']==0]['text']\n",
    "\n",
    "vector = CountVectorizer(ngram_range=(2, 2))\n",
    "ngrams = vector.fit_transform(corpus_no_disaster_text)\n",
    "\n",
    "# Counting frecuency of ngrams\n",
    "ngrams_frecuency = ngrams.sum(axis=0)\n",
    "\n",
    "# Get the top ngrams\n",
    "words_frequency = [(word, ngrams_frecuency[0, index]) for word, index in vector.vocabulary_.items()]\n",
    "top_words = sorted(words_frequency, key = lambda x: x[1], reverse=True)[:10]\n",
    "\n",
    "plt.figure(figsize=(10,5))\n",
    "x,y = map(list,zip(*top_words))\n",
    "sns.barplot(x=y,y=x, palette='Blues_r')"
   ]
  },
  {
   "cell_type": "markdown",
   "id": "modular-princeton",
   "metadata": {},
   "source": [
    "### 1.12 Bigram analysis for  disaster tweets"
   ]
  },
  {
   "cell_type": "code",
   "execution_count": 129,
   "id": "considered-education",
   "metadata": {},
   "outputs": [
    {
     "data": {
      "text/plain": [
       "<AxesSubplot:>"
      ]
     },
     "execution_count": 129,
     "metadata": {},
     "output_type": "execute_result"
    },
    {
     "data": {
      "image/png": "[encoded data removed]",
      "text/plain": [
       "<Figure size 720x360 with 1 Axes>"
      ]
     },
     "metadata": {
      "needs_background": "light"
     },
     "output_type": "display_data"
    }
   ],
   "source": [
    "corpus_no_disaster_text = train[train['target']==1]['text']\n",
    "\n",
    "vector_disaster = CountVectorizer(ngram_range=(2, 2))\n",
    "ngrams_disaster = vector.fit_transform(corpus_no_disaster_text)\n",
    "\n",
    "# Counting frecuency of ngrams\n",
    "ngrams_frecuency_disaster = ngrams.sum(axis=0)\n",
    "\n",
    "# Get the top ngrams\n",
    "words_frequency_disaster = [(word, ngrams_frecuency_disaster[0, index]) for word, index in vector.vocabulary_.items()]\n",
    "top_words_disaster = sorted(words_frequency_disaster, key = lambda x: x[1], reverse=True)[:10]\n",
    "\n",
    "plt.figure(figsize=(10,5))\n",
    "x,y = map(list,zip(*top_words))\n",
    "sns.barplot(x=y,y=x, palette='Reds_r')"
   ]
  },
  {
   "cell_type": "markdown",
   "id": "regulated-monster",
   "metadata": {},
   "source": [
    "## 2. Data cleaning"
   ]
  },
  {
   "cell_type": "code",
   "execution_count": 131,
   "id": "front-ethernet",
   "metadata": {},
   "outputs": [],
   "source": [
    "def text_to_lower(text):\n",
    "    \"\"\"Make text lowercase\"\"\"\n",
    "    return text.lower()\n",
    "\n",
    "def remove_square_brackets(text):\n",
    "    \"\"\"Remove square brackets\"\"\"\n",
    "    text = re.sub('\\[.*?\\]', '', text)\n",
    "    return text\n",
    "\n",
    "def remove_links(text):\n",
    "    \"\"\"Remove links\"\"\"\n",
    "    text = re.sub('https?://\\S+|www\\.\\S+', '', text)\n",
    "    return text\n",
    "\n",
    "def remove_punctuation_marks(text):\n",
    "    \"\"\"Remove punctuation marks\"\"\"\n",
    "    text = re.sub('<.*?>+', '', text)\n",
    "    text = re.sub('[%s]' % re.escape(string.punctuation), '', text)\n",
    "    text = re.sub('\\n', '', text)\n",
    "    return text\n",
    "\n",
    "def remove_words_numbers(text):\n",
    "    \"\"\"Remove words that are numbers\"\"\"\n",
    "    text = re.sub('\\w*\\d\\w*', '', text)\n",
    "    return text"
   ]
  },
  {
   "cell_type": "markdown",
   "id": "positive-spray",
   "metadata": {},
   "source": [
    "### 2.2 Applying the cleaning function to both test and training datasets"
   ]
  },
  {
   "cell_type": "code",
   "execution_count": 133,
   "id": "confused-guest",
   "metadata": {},
   "outputs": [
    {
     "data": {
      "text/plain": [
       "0    Our Deeds are the Reason of this #earthquake M...\n",
       "1               Forest fire near La Ronge Sask. Canada\n",
       "2    All residents asked to 'shelter in place' are ...\n",
       "3    13,000 people receive #wildfires evacuation or...\n",
       "4    Just got sent this photo from Ruby #Alaska as ...\n",
       "Name: text, dtype: object"
      ]
     },
     "execution_count": 133,
     "metadata": {},
     "output_type": "execute_result"
    }
   ],
   "source": [
    "# Concat the two dataframes\n",
    "dataframes = pd.concat([train,test])\n",
    "\n",
    "dataframes['text'].apply(lambda x: text_to_lower(x)) \\\n",
    "    .apply(lambda x: remove_square_brackets(x)) \\\n",
    "    .apply(lambda x: remove_links(x)) \\\n",
    "    .apply(lambda x: remove_punctuation_marks(x)) \\\n",
    "    .apply(lambda x: remove_words_numbers(x))\n",
    "\n",
    "dataframes['text'].head()"
   ]
  },
  {
   "cell_type": "markdown",
   "id": "disturbed-stocks",
   "metadata": {},
   "source": [
    "### 2.3 Removing emojis"
   ]
  },
  {
   "cell_type": "code",
   "execution_count": 135,
   "id": "indian-flour",
   "metadata": {},
   "outputs": [],
   "source": [
    "\n",
    "def clean_emojis(text):\n",
    "    emojis = re.compile(\"[\"\n",
    "                           u\"\\U0001F600-\\U0001F64F\"  # emoticons\n",
    "                           u\"\\U0001F300-\\U0001F5FF\"  # symbols & pictographs\n",
    "                           u\"\\U0001F680-\\U0001F6FF\"  # transport & map symbols\n",
    "                           u\"\\U0001F1E0-\\U0001F1FF\"  # flags (iOS)\n",
    "                           u\"\\U00002702-\\U000027B0\"\n",
    "                           u\"\\U000024C2-\\U0001F251\"\n",
    "                           \"]+\", flags=re.UNICODE).sub(r'', text)\n",
    "\n",
    "\n",
    "dataframes['text'] = dataframes['text'].apply(lambda x: clean_emojis(x))"
   ]
  },
  {
   "cell_type": "code",
   "execution_count": 136,
   "id": "commercial-observer",
   "metadata": {},
   "outputs": [],
   "source": [
    "train_values = train.text.values\n",
    "train_classes = train.target.values\n",
    "test_values = test.text.values"
   ]
  },
  {
   "cell_type": "markdown",
   "id": "adaptive-canberra",
   "metadata": {},
   "source": [
    "## 3. Preprocessing"
   ]
  },
  {
   "cell_type": "markdown",
   "id": "ongoing-yorkshire",
   "metadata": {},
   "source": [
    "### 3.1 Tokenization\n",
    "\n",
    "Firt, it is necessary to perform tokenization to split the text into sentences of words. With this tokenization step we get the text into a format that is easier to convert to raw numbers, which can actually be used for the model later."
   ]
  },
  {
   "cell_type": "code",
   "execution_count": 19,
   "id": "marine-underwear",
   "metadata": {},
   "outputs": [],
   "source": [
    "word_tokenizer = Tokenizer()\n",
    "word_tokenizer.fit_on_texts(train_values)\n",
    "vocab_length = len(word_tokenizer.word_index) + 1"
   ]
  },
  {
   "cell_type": "code",
   "execution_count": 22,
   "id": "hybrid-details",
   "metadata": {},
   "outputs": [
    {
     "name": "stderr",
     "output_type": "stream",
     "text": [
      "[nltk_data] Downloading package punkt to /home/ec2-user/nltk_data...\n",
      "[nltk_data]   Package punkt is already up-to-date!\n"
     ]
    }
   ],
   "source": [
    "nltk.download('punkt')\n",
    "\n",
    "longest_train = max(train_values, key=lambda sentence: len(word_tokenize(sentence)))\n",
    "length_long_sentence = len(word_tokenize(longest_train))\n",
    "padded_sentences = pad_sequences(tokenizer.texts_to_sequences(train_values), length_long_sentence, padding='post')\n",
    "test_sentences = pad_sequences(\n",
    "    tokenizer.texts_to_sequences(test_values), \n",
    "    length_long_sentence,\n",
    "    padding='post'\n",
    ")"
   ]
  },
  {
   "cell_type": "markdown",
   "id": "pressing-hunter",
   "metadata": {},
   "source": [
    "### 3.2 GloVe\n",
    "\n",
    "To obtain a vector representation for words we can use an unsupervised learning algorithm called GloVe (Global Vectors for Word Representation), which focuses on words co-occurrences over the whole corpus. Its embeddings relate to the probabilities that two words appear together"
   ]
  },
  {
   "cell_type": "code",
   "execution_count": 23,
   "id": "recorded-butter",
   "metadata": {},
   "outputs": [
    {
     "name": "stdout",
     "output_type": "stream",
     "text": [
      "--2021-03-28 17:24:57--  http://nlp.stanford.edu/data/glove.6B.zip\n",
      "Resolving nlp.stanford.edu (nlp.stanford.edu)... 171.64.67.140\n",
      "Connecting to nlp.stanford.edu (nlp.stanford.edu)|171.64.67.140|:80... connected.\n",
      "HTTP request sent, awaiting response... 302 Found\n",
      "Location: https://nlp.stanford.edu/data/glove.6B.zip [following]\n",
      "--2021-03-28 17:24:58--  https://nlp.stanford.edu/data/glove.6B.zip\n",
      "Connecting to nlp.stanford.edu (nlp.stanford.edu)|171.64.67.140|:443... connected.\n",
      "HTTP request sent, awaiting response... 301 Moved Permanently\n",
      "Location: http://downloads.cs.stanford.edu/nlp/data/glove.6B.zip [following]\n",
      "--2021-03-28 17:24:58--  http://downloads.cs.stanford.edu/nlp/data/glove.6B.zip\n",
      "Resolving downloads.cs.stanford.edu (downloads.cs.stanford.edu)... 171.64.64.22\n",
      "Connecting to downloads.cs.stanford.edu (downloads.cs.stanford.edu)|171.64.64.22|:80... connected.\n",
      "HTTP request sent, awaiting response... 200 OK\n",
      "Length: 862182613 (822M) [application/zip]\n",
      "Saving to: ‘glove.6B.zip’\n",
      "\n",
      "glove.6B.zip        100%[===================>] 822.24M  4.49MB/s    in 4m 15s  \n",
      "\n",
      "2021-03-28 17:29:15 (3.22 MB/s) - ‘glove.6B.zip’ saved [862182613/862182613]\n",
      "\n"
     ]
    }
   ],
   "source": [
    "!wget http://nlp.stanford.edu/data/glove.6B.zip\n",
    "!mkdir ./input/glove6b\n",
    "!unzip -q glove.6B.zip -d ./input/glove6b"
   ]
  },
  {
   "cell_type": "code",
   "execution_count": 24,
   "id": "architectural-export",
   "metadata": {},
   "outputs": [],
   "source": [
    "embeddings_dictionary = dict()\n",
    "embedding_dim = 100\n",
    "with open('./input/glove6b/glove.6B.100d.txt') as glove_file:\n",
    "    for line in glove_file:\n",
    "        records = line.split()\n",
    "        word = records[0]\n",
    "        vector_dimensions = np.asarray(records[1:], dtype='float32')\n",
    "        embeddings_dictionary [word] = vector_dimensions"
   ]
  },
  {
   "cell_type": "code",
   "execution_count": 25,
   "id": "thorough-restriction",
   "metadata": {},
   "outputs": [],
   "source": [
    "embedding_matrix = np.zeros((vocab_length, embedding_dim))\n",
    "for word, index in word_tokenizer.word_index.items():\n",
    "    embedding_vector = embeddings_dictionary.get(word)\n",
    "    if embedding_vector is not None:\n",
    "        embedding_matrix[index] = embedding_vector"
   ]
  },
  {
   "cell_type": "code",
   "execution_count": 26,
   "id": "extensive-recovery",
   "metadata": {},
   "outputs": [],
   "source": [
    "!rm -rf ./input/glove6b\n",
    "!rm glove.6B.zip"
   ]
  },
  {
   "cell_type": "markdown",
   "id": "thrown-basket",
   "metadata": {},
   "source": [
    "## 4. Model preparation and implementation\n",
    "\n",
    "For solving this problem I decided to use LSTM (long short-term memory) model because it solves a vanishing gradient problem."
   ]
  },
  {
   "cell_type": "markdown",
   "id": "classified-works",
   "metadata": {},
   "source": [
    "### 4.1 Splitting data"
   ]
  },
  {
   "cell_type": "code",
   "execution_count": 27,
   "id": "parliamentary-pollution",
   "metadata": {},
   "outputs": [],
   "source": [
    "X_train, X_test, y_train, y_test = train_test_split(\n",
    "    padded_sentences, \n",
    "    train_classes, \n",
    "    test_size=0.25\n",
    ")"
   ]
  },
  {
   "cell_type": "markdown",
   "id": "pressing-tours",
   "metadata": {},
   "source": [
    "### 4.2 Model implementation"
   ]
  },
  {
   "cell_type": "code",
   "execution_count": 28,
   "id": "behind-documentary",
   "metadata": {},
   "outputs": [],
   "source": [
    "def model_lstm():\n",
    "    model = Sequential()\n",
    "    model.add(Embedding(input_dim=embedding_matrix.shape[0], \n",
    "                        output_dim=embedding_matrix.shape[1], \n",
    "                        weights = [embedding_matrix], \n",
    "                        input_length=length_long_sentence))\n",
    "    model.add(Bidirectional(LSTM(length_long_sentence, return_sequences = True, recurrent_dropout=0.2)))\n",
    "    model.add(GlobalMaxPool1D())\n",
    "    model.add(BatchNormalization())\n",
    "    model.add(Dropout(0.5))\n",
    "    model.add(Dense(length_long_sentence, activation = \"relu\"))\n",
    "    model.add(Dropout(0.5))\n",
    "    model.add(Dense(1, activation = 'sigmoid'))\n",
    "    model.compile(optimizer='rmsprop', loss='binary_crossentropy', metrics=['accuracy'])\n",
    "    return model\n",
    "\n",
    "model = model_lstm()"
   ]
  },
  {
   "cell_type": "code",
   "execution_count": 29,
   "id": "northern-recording",
   "metadata": {},
   "outputs": [
    {
     "name": "stdout",
     "output_type": "stream",
     "text": [
      "Requirement already satisfied: pydot in /home/ec2-user/anaconda3/envs/tensorflow2_p36/lib/python3.6/site-packages (1.4.2)\r\n",
      "Requirement already satisfied: pyparsing>=2.1.4 in /home/ec2-user/anaconda3/envs/tensorflow2_p36/lib/python3.6/site-packages (from pydot) (2.4.7)\r\n"
     ]
    }
   ],
   "source": [
    "!pip install pydot"
   ]
  },
  {
   "cell_type": "code",
   "execution_count": 30,
   "id": "hindu-luther",
   "metadata": {},
   "outputs": [
    {
     "data": {
      "image/png": "[encoded data removed]",
      "text/plain": [
       "<IPython.core.display.Image object>"
      ]
     },
     "execution_count": 30,
     "metadata": {},
     "output_type": "execute_result"
    }
   ],
   "source": [
    "from keras.utils.vis_utils import plot_model\n",
    "plot_model(model, to_file='model_plot.png', show_shapes=True, show_layer_names=True)"
   ]
  },
  {
   "cell_type": "markdown",
   "id": "hollywood-citizenship",
   "metadata": {},
   "source": [
    "### 4.3 Model training"
   ]
  },
  {
   "cell_type": "code",
   "execution_count": 31,
   "id": "earned-smoke",
   "metadata": {},
   "outputs": [
    {
     "name": "stdout",
     "output_type": "stream",
     "text": [
      "Train on 5709 samples, validate on 1904 samples\n",
      "Epoch 1/7\n",
      "5709/5709 [==============================] - 42s 7ms/step - loss: 0.6410 - accuracy: 0.6842 - val_loss: 0.5682 - val_accuracy: 0.7931\n",
      "\n",
      "Epoch 00001: val_loss improved from inf to 0.56819, saving model to model.h5\n",
      "Epoch 2/7\n",
      "5709/5709 [==============================] - 35s 6ms/step - loss: 0.5034 - accuracy: 0.7765 - val_loss: 0.4660 - val_accuracy: 0.8057\n",
      "\n",
      "Epoch 00002: val_loss improved from 0.56819 to 0.46599, saving model to model.h5\n",
      "Epoch 3/7\n",
      "5709/5709 [==============================] - 35s 6ms/step - loss: 0.4497 - accuracy: 0.8063 - val_loss: 0.4335 - val_accuracy: 0.8057\n",
      "\n",
      "Epoch 00003: val_loss improved from 0.46599 to 0.43352, saving model to model.h5\n",
      "Epoch 4/7\n",
      "5709/5709 [==============================] - 38s 7ms/step - loss: 0.4286 - accuracy: 0.8226 - val_loss: 0.4240 - val_accuracy: 0.8114\n",
      "\n",
      "Epoch 00004: val_loss improved from 0.43352 to 0.42401, saving model to model.h5\n",
      "Epoch 5/7\n",
      "5709/5709 [==============================] - 36s 6ms/step - loss: 0.3948 - accuracy: 0.8376 - val_loss: 0.4270 - val_accuracy: 0.8125\n",
      "\n",
      "Epoch 00005: val_loss did not improve from 0.42401\n",
      "Epoch 6/7\n",
      "5709/5709 [==============================] - 35s 6ms/step - loss: 0.3691 - accuracy: 0.8476 - val_loss: 0.4444 - val_accuracy: 0.8151\n",
      "\n",
      "Epoch 00006: val_loss did not improve from 0.42401\n",
      "Epoch 7/7\n",
      "5709/5709 [==============================] - 35s 6ms/step - loss: 0.3425 - accuracy: 0.8664 - val_loss: 0.4415 - val_accuracy: 0.8104\n",
      "\n",
      "Epoch 00007: val_loss did not improve from 0.42401\n"
     ]
    }
   ],
   "source": [
    "checkpoint = ModelCheckpoint(\n",
    "    'model.h5', \n",
    "    monitor = 'val_loss', \n",
    "    verbose = 1, \n",
    "    save_best_only = True\n",
    ")\n",
    "reduce_lr = ReduceLROnPlateau(\n",
    "    monitor = 'val_loss', \n",
    "    factor = 0.2, \n",
    "    verbose = 1, \n",
    "    patience = 5,                        \n",
    "    min_lr = 0.001\n",
    ")\n",
    "history = model.fit(\n",
    "    X_train, \n",
    "    y_train, \n",
    "    epochs = 7,\n",
    "    batch_size = 32,\n",
    "    validation_data = [X_test, y_test],\n",
    "    verbose = 1,\n",
    "    callbacks = [reduce_lr, checkpoint]\n",
    ")"
   ]
  },
  {
   "cell_type": "markdown",
   "id": "opening-validation",
   "metadata": {},
   "source": [
    "## 5 Model evaluation"
   ]
  },
  {
   "cell_type": "code",
   "execution_count": 33,
   "id": "portuguese-child",
   "metadata": {},
   "outputs": [
    {
     "name": "stdout",
     "output_type": "stream",
     "text": [
      "1904/1904 [==============================] - 1s 774us/step\n",
      "Loss: 0.4414563239121637\n",
      "Accuracy: 0.8103991746902466\n"
     ]
    }
   ],
   "source": [
    "loss, accuracy = model.evaluate(X_test, y_test)\n",
    "print('Loss:', loss)\n",
    "print('Accuracy:', accuracy)"
   ]
  },
  {
   "cell_type": "markdown",
   "id": "affected-harmony",
   "metadata": {},
   "source": [
    "### 5.1 Model reporting"
   ]
  },
  {
   "cell_type": "code",
   "execution_count": 34,
   "id": "ahead-folks",
   "metadata": {},
   "outputs": [
    {
     "name": "stdout",
     "output_type": "stream",
     "text": [
      "F1-score:  0.7508626639061422\n",
      "Precision:  0.6766169154228856\n",
      "Recall:  0.8434108527131783\n",
      "Acuracy:  0.8103991596638656\n",
      "--------------------------------------------------\n",
      "              precision    recall  f1-score   support\n",
      "\n",
      "           0       0.91      0.79      0.85      1259\n",
      "           1       0.68      0.84      0.75       645\n",
      "\n",
      "    accuracy                           0.81      1904\n",
      "   macro avg       0.79      0.82      0.80      1904\n",
      "weighted avg       0.83      0.81      0.81      1904\n",
      "\n"
     ]
    }
   ],
   "source": [
    "preds = model.predict_classes(X_test)\n",
    "print(\"F1-score: \", f1_score(preds, y_test))\n",
    "print(\"Precision: \", precision_score(preds, y_test))\n",
    "print(\"Recall: \", recall_score(preds, y_test))\n",
    "print(\"Acuracy: \", accuracy_score(preds, y_test))\n",
    "print(classification_report(prediction_tag, y_test))"
   ]
  },
  {
   "cell_type": "code",
   "execution_count": 35,
   "id": "described-firmware",
   "metadata": {},
   "outputs": [
    {
     "name": "stdout",
     "output_type": "stream",
     "text": [
      "Accuracy:  0.5845588235294118\n",
      "Precision 0.5075669383003493\n",
      "Recall 0.5422885572139303\n",
      "Recall 0.5243535778713169\n"
     ]
    }
   ],
   "source": [
    "from sklearn.naive_bayes import MultinomialNB\n",
    "from sklearn import metrics\n",
    "\n",
    "nb = MultinomialNB()\n",
    "\n",
    "nb.fit(X_train, y_train)\n",
    "pred_class = nb.predict(X_test)\n",
    "\n",
    "print(\"Accuracy: \", metrics.accuracy_score(y_test, pred_class))\n",
    "print(\"Precision\", metrics.precision_score(y_test, pred_class))\n",
    "print(\"Recall\", metrics.recall_score(y_test, pred_class))\n",
    "print(\"Recall\", metrics.f1_score(y_test, pred_class))"
   ]
  }
 ],
 "metadata": {
  "kernelspec": {
   "display_name": "conda_tensorflow2_p36",
   "language": "python",
   "name": "conda_tensorflow2_p36"
  },
  "language_info": {
   "codemirror_mode": {
    "name": "ipython",
    "version": 3
   },
   "file_extension": ".py",
   "mimetype": "text/x-python",
   "name": "python",
   "nbconvert_exporter": "python",
   "pygments_lexer": "ipython3",
   "version": "3.6.13"
  }
 },
 "nbformat": 4,
 "nbformat_minor": 5
}
